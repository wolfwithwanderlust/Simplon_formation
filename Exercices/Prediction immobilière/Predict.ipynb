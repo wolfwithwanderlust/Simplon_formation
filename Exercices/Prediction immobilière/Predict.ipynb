{
 "cells": [
  {
   "cell_type": "code",
   "execution_count": 5,
   "id": "e9a7c1ea",
   "metadata": {},
   "outputs": [],
   "source": [
    "import joblib\n",
    "import pandas as pd\n",
    "import numpy as np\n",
    "import math"
   ]
  },
  {
   "cell_type": "code",
   "execution_count": 6,
   "id": "aee5b5ab",
   "metadata": {},
   "outputs": [],
   "source": [
    "# Création de la fonction pour calculer les distances de Haversine\n",
    "def calculate_distances(df):\n",
    "    # Coordonnées des points de référence\n",
    "    la_lat, la_lon = 34.003342, -118.485832  # Los Angeles\n",
    "    sf_lat, sf_lon = 37.787994, -122.407437  # San Francisco\n",
    "    ontario_lat, ontario_lon = 34.068871, -117.651215  # Ontario\n",
    "\n",
    "    # Fonction de calcul de la distance de Haversine\n",
    "    def haversine_distance(lat1, lon1, lat2, lon2):\n",
    "        R = 6371.0  # Rayon de la Terre en kilomètres\n",
    "        lat1_rad = math.radians(lat1)\n",
    "        lon1_rad = math.radians(lon1)\n",
    "        lat2_rad = math.radians(lat2)\n",
    "        lon2_rad = math.radians(lon2)\n",
    "\n",
    "        dlat = lat2_rad - lat1_rad\n",
    "        dlon = lon2_rad - lon1_rad\n",
    "\n",
    "        a = (math.sin(dlat / 2) ** 2 +\n",
    "             math.cos(lat1_rad) * math.cos(lat2_rad) * math.sin(dlon / 2) ** 2)\n",
    "        c = 2 * math.atan2(math.sqrt(a), math.sqrt(1 - a))\n",
    "\n",
    "        return R * c\n",
    "\n",
    "    # Calculer les distances et les ajouter au DataFrame\n",
    "    df['distance_LA'] = df.apply(\n",
    "        lambda row: haversine_distance(row['latitude'], row['longitude'], la_lat, la_lon), axis=1)\n",
    "    df['distance_SF'] = df.apply(\n",
    "        lambda row: haversine_distance(row['latitude'], row['longitude'], sf_lat, sf_lon), axis=1)\n",
    "    df['distance_Ontario'] = df.apply(\n",
    "        lambda row: haversine_distance(row['latitude'], row['longitude'], ontario_lat, ontario_lon), axis=1)\n",
    "\n",
    "    # Retourner les nouvelles colonnes de distances\n",
    "    return df[['distance_LA', 'distance_SF', 'distance_Ontario']]"
   ]
  },
  {
   "cell_type": "code",
   "execution_count": 7,
   "id": "6cf2f0ab",
   "metadata": {},
   "outputs": [],
   "source": [
    "model = joblib.load('KNN_model.joblib')"
   ]
  },
  {
   "cell_type": "code",
   "execution_count": 8,
   "id": "ffa38d83",
   "metadata": {},
   "outputs": [],
   "source": [
    "def predict_house_price(longitude, latitude, housing_median_age, total_rooms, total_bedrooms, population, households, median_income, ocean_proximity):\n",
    "    input_data = pd.DataFrame([[longitude, latitude, housing_median_age, total_rooms, total_bedrooms, population, households, median_income, ocean_proximity]],\n",
    "                             columns=['longitude', 'latitude', 'housing_median_age', 'total_rooms', 'total_bedrooms', 'population', 'households', 'median_income', 'ocean_proximity'])\n",
    "\n",
    "    prediction = model.predict(input_data)\n",
    "    return prediction[0]"
   ]
  },
  {
   "cell_type": "code",
   "execution_count": 9,
   "id": "a2bdab33",
   "metadata": {},
   "outputs": [
    {
     "name": "stdout",
     "output_type": "stream",
     "text": [
      "Predicted price: 170137.0245760398\n"
     ]
    }
   ],
   "source": [
    "example_input = [-119.7725868, 36.7468422, 8, 10, 2, 35000, 1200, 120, 'INLAND']\n",
    "predicted_price = predict_house_price(*example_input)\n",
    "print(\"Predicted price:\", predicted_price)"
   ]
  }
 ],
 "metadata": {
  "kernelspec": {
   "display_name": "Python 3 (ipykernel)",
   "language": "python",
   "name": "python3"
  },
  "language_info": {
   "codemirror_mode": {
    "name": "ipython",
    "version": 3
   },
   "file_extension": ".py",
   "mimetype": "text/x-python",
   "name": "python",
   "nbconvert_exporter": "python",
   "pygments_lexer": "ipython3",
   "version": "3.10.6"
  },
  "toc": {
   "base_numbering": 1,
   "nav_menu": {},
   "number_sections": true,
   "sideBar": true,
   "skip_h1_title": false,
   "title_cell": "Table of Contents",
   "title_sidebar": "Contents",
   "toc_cell": false,
   "toc_position": {},
   "toc_section_display": true,
   "toc_window_display": false
  }
 },
 "nbformat": 4,
 "nbformat_minor": 5
}
