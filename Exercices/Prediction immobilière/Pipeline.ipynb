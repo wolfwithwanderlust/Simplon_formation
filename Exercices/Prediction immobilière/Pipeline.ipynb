{
 "cells": [
  {
   "cell_type": "markdown",
   "id": "d825c2d8",
   "metadata": {},
   "source": [
    "# L'IA au service des agents immobiliers - Silicon Valley "
   ]
  },
  {
   "cell_type": "markdown",
   "id": "c479ca04",
   "metadata": {},
   "source": [
    "## Imports"
   ]
  },
  {
   "cell_type": "code",
   "execution_count": 1,
   "id": "e2a074fa",
   "metadata": {},
   "outputs": [],
   "source": [
    "import pandas as pd\n",
    "import plotly.express as px\n",
    "import matplotlib.pyplot as plt\n",
    "import seaborn as sns\n",
    "import numpy as np\n",
    "import math\n",
    "import statsmodels.api as sm\n",
    "from sklearn.model_selection import train_test_split\n",
    "from sklearn.metrics import mean_squared_error, r2_score\n",
    "from sklearn.model_selection import cross_val_score, KFold\n",
    "from sklearn.preprocessing import StandardScaler\n",
    "from sklearn.preprocessing import MinMaxScaler\n",
    "from sklearn.neighbors import KNeighborsRegressor\n",
    "from sklearn.metrics import mean_absolute_error\n",
    "from sklearn.impute import KNNImputer\n",
    "from sklearn.model_selection import KFold\n",
    "from sklearn.base import BaseEstimator, TransformerMixin\n",
    "from sklearn.compose import ColumnTransformer\n",
    "from sklearn.pipeline import Pipeline\n",
    "from sklearn.preprocessing import OneHotEncoder\n",
    "from sklearn.impute import SimpleImputer\n",
    "from sklearn.model_selection import GridSearchCV\n",
    "from sklearn.preprocessing import FunctionTransformer\n",
    "from sklearn import set_config\n",
    "import joblib\n",
    "from sklearn.preprocessing import RobustScaler"
   ]
  },
  {
   "cell_type": "markdown",
   "id": "a3ebb747",
   "metadata": {},
   "source": [
    "## Préparation des données"
   ]
  },
  {
   "cell_type": "code",
   "execution_count": 2,
   "id": "9a292d92",
   "metadata": {
    "scrolled": true
   },
   "outputs": [],
   "source": [
    "df = pd.read_csv(\"housing-train-data.csv\")\n",
    "df = df.drop(columns=['Unnamed: 0'])"
   ]
  },
  {
   "cell_type": "code",
   "execution_count": 3,
   "id": "f796a6c2",
   "metadata": {},
   "outputs": [
    {
     "data": {
      "text/html": [
       "<div>\n",
       "<style scoped>\n",
       "    .dataframe tbody tr th:only-of-type {\n",
       "        vertical-align: middle;\n",
       "    }\n",
       "\n",
       "    .dataframe tbody tr th {\n",
       "        vertical-align: top;\n",
       "    }\n",
       "\n",
       "    .dataframe thead th {\n",
       "        text-align: right;\n",
       "    }\n",
       "</style>\n",
       "<table border=\"1\" class=\"dataframe\">\n",
       "  <thead>\n",
       "    <tr style=\"text-align: right;\">\n",
       "      <th></th>\n",
       "      <th>longitude</th>\n",
       "      <th>latitude</th>\n",
       "      <th>housing_median_age</th>\n",
       "      <th>total_rooms</th>\n",
       "      <th>total_bedrooms</th>\n",
       "      <th>population</th>\n",
       "      <th>households</th>\n",
       "      <th>median_income</th>\n",
       "      <th>median_house_value</th>\n",
       "      <th>ocean_proximity</th>\n",
       "    </tr>\n",
       "  </thead>\n",
       "  <tbody>\n",
       "    <tr>\n",
       "      <th>0</th>\n",
       "      <td>-119.84</td>\n",
       "      <td>36.77</td>\n",
       "      <td>6.0</td>\n",
       "      <td>1853.0</td>\n",
       "      <td>473.0</td>\n",
       "      <td>1397.0</td>\n",
       "      <td>417.0</td>\n",
       "      <td>1.4817</td>\n",
       "      <td>72000.0</td>\n",
       "      <td>INLAND</td>\n",
       "    </tr>\n",
       "    <tr>\n",
       "      <th>1</th>\n",
       "      <td>-117.80</td>\n",
       "      <td>33.68</td>\n",
       "      <td>8.0</td>\n",
       "      <td>2032.0</td>\n",
       "      <td>349.0</td>\n",
       "      <td>862.0</td>\n",
       "      <td>340.0</td>\n",
       "      <td>6.9133</td>\n",
       "      <td>274100.0</td>\n",
       "      <td>&lt;1H OCEAN</td>\n",
       "    </tr>\n",
       "    <tr>\n",
       "      <th>2</th>\n",
       "      <td>-120.19</td>\n",
       "      <td>36.60</td>\n",
       "      <td>25.0</td>\n",
       "      <td>875.0</td>\n",
       "      <td>214.0</td>\n",
       "      <td>931.0</td>\n",
       "      <td>214.0</td>\n",
       "      <td>1.5536</td>\n",
       "      <td>58300.0</td>\n",
       "      <td>INLAND</td>\n",
       "    </tr>\n",
       "    <tr>\n",
       "      <th>3</th>\n",
       "      <td>-118.32</td>\n",
       "      <td>34.10</td>\n",
       "      <td>31.0</td>\n",
       "      <td>622.0</td>\n",
       "      <td>229.0</td>\n",
       "      <td>597.0</td>\n",
       "      <td>227.0</td>\n",
       "      <td>1.5284</td>\n",
       "      <td>200000.0</td>\n",
       "      <td>&lt;1H OCEAN</td>\n",
       "    </tr>\n",
       "    <tr>\n",
       "      <th>4</th>\n",
       "      <td>-121.23</td>\n",
       "      <td>37.79</td>\n",
       "      <td>21.0</td>\n",
       "      <td>1922.0</td>\n",
       "      <td>373.0</td>\n",
       "      <td>1130.0</td>\n",
       "      <td>372.0</td>\n",
       "      <td>4.0815</td>\n",
       "      <td>117900.0</td>\n",
       "      <td>INLAND</td>\n",
       "    </tr>\n",
       "    <tr>\n",
       "      <th>...</th>\n",
       "      <td>...</td>\n",
       "      <td>...</td>\n",
       "      <td>...</td>\n",
       "      <td>...</td>\n",
       "      <td>...</td>\n",
       "      <td>...</td>\n",
       "      <td>...</td>\n",
       "      <td>...</td>\n",
       "      <td>...</td>\n",
       "      <td>...</td>\n",
       "    </tr>\n",
       "    <tr>\n",
       "      <th>16507</th>\n",
       "      <td>-121.90</td>\n",
       "      <td>39.59</td>\n",
       "      <td>20.0</td>\n",
       "      <td>1465.0</td>\n",
       "      <td>278.0</td>\n",
       "      <td>745.0</td>\n",
       "      <td>250.0</td>\n",
       "      <td>3.0625</td>\n",
       "      <td>93800.0</td>\n",
       "      <td>INLAND</td>\n",
       "    </tr>\n",
       "    <tr>\n",
       "      <th>16508</th>\n",
       "      <td>-122.25</td>\n",
       "      <td>38.11</td>\n",
       "      <td>49.0</td>\n",
       "      <td>2365.0</td>\n",
       "      <td>504.0</td>\n",
       "      <td>1131.0</td>\n",
       "      <td>458.0</td>\n",
       "      <td>2.6133</td>\n",
       "      <td>103100.0</td>\n",
       "      <td>NEAR BAY</td>\n",
       "    </tr>\n",
       "    <tr>\n",
       "      <th>16509</th>\n",
       "      <td>-121.22</td>\n",
       "      <td>38.92</td>\n",
       "      <td>19.0</td>\n",
       "      <td>2531.0</td>\n",
       "      <td>461.0</td>\n",
       "      <td>1206.0</td>\n",
       "      <td>429.0</td>\n",
       "      <td>4.4958</td>\n",
       "      <td>192600.0</td>\n",
       "      <td>INLAND</td>\n",
       "    </tr>\n",
       "    <tr>\n",
       "      <th>16510</th>\n",
       "      <td>-118.14</td>\n",
       "      <td>34.16</td>\n",
       "      <td>39.0</td>\n",
       "      <td>2776.0</td>\n",
       "      <td>840.0</td>\n",
       "      <td>2546.0</td>\n",
       "      <td>773.0</td>\n",
       "      <td>2.5750</td>\n",
       "      <td>153500.0</td>\n",
       "      <td>&lt;1H OCEAN</td>\n",
       "    </tr>\n",
       "    <tr>\n",
       "      <th>16511</th>\n",
       "      <td>-124.13</td>\n",
       "      <td>40.80</td>\n",
       "      <td>31.0</td>\n",
       "      <td>2152.0</td>\n",
       "      <td>462.0</td>\n",
       "      <td>1259.0</td>\n",
       "      <td>420.0</td>\n",
       "      <td>2.2478</td>\n",
       "      <td>81100.0</td>\n",
       "      <td>NEAR OCEAN</td>\n",
       "    </tr>\n",
       "  </tbody>\n",
       "</table>\n",
       "<p>16512 rows × 10 columns</p>\n",
       "</div>"
      ],
      "text/plain": [
       "       longitude  latitude  housing_median_age  total_rooms  total_bedrooms  \\\n",
       "0        -119.84     36.77                 6.0       1853.0           473.0   \n",
       "1        -117.80     33.68                 8.0       2032.0           349.0   \n",
       "2        -120.19     36.60                25.0        875.0           214.0   \n",
       "3        -118.32     34.10                31.0        622.0           229.0   \n",
       "4        -121.23     37.79                21.0       1922.0           373.0   \n",
       "...          ...       ...                 ...          ...             ...   \n",
       "16507    -121.90     39.59                20.0       1465.0           278.0   \n",
       "16508    -122.25     38.11                49.0       2365.0           504.0   \n",
       "16509    -121.22     38.92                19.0       2531.0           461.0   \n",
       "16510    -118.14     34.16                39.0       2776.0           840.0   \n",
       "16511    -124.13     40.80                31.0       2152.0           462.0   \n",
       "\n",
       "       population  households  median_income  median_house_value  \\\n",
       "0          1397.0       417.0         1.4817             72000.0   \n",
       "1           862.0       340.0         6.9133            274100.0   \n",
       "2           931.0       214.0         1.5536             58300.0   \n",
       "3           597.0       227.0         1.5284            200000.0   \n",
       "4          1130.0       372.0         4.0815            117900.0   \n",
       "...           ...         ...            ...                 ...   \n",
       "16507       745.0       250.0         3.0625             93800.0   \n",
       "16508      1131.0       458.0         2.6133            103100.0   \n",
       "16509      1206.0       429.0         4.4958            192600.0   \n",
       "16510      2546.0       773.0         2.5750            153500.0   \n",
       "16511      1259.0       420.0         2.2478             81100.0   \n",
       "\n",
       "      ocean_proximity  \n",
       "0              INLAND  \n",
       "1           <1H OCEAN  \n",
       "2              INLAND  \n",
       "3           <1H OCEAN  \n",
       "4              INLAND  \n",
       "...               ...  \n",
       "16507          INLAND  \n",
       "16508        NEAR BAY  \n",
       "16509          INLAND  \n",
       "16510       <1H OCEAN  \n",
       "16511      NEAR OCEAN  \n",
       "\n",
       "[16512 rows x 10 columns]"
      ]
     },
     "metadata": {},
     "output_type": "display_data"
    }
   ],
   "source": [
    "display(df)"
   ]
  },
  {
   "cell_type": "markdown",
   "id": "7e44cc5a",
   "metadata": {},
   "source": [
    "## Transformation des données"
   ]
  },
  {
   "cell_type": "code",
   "execution_count": 4,
   "id": "cf17850c",
   "metadata": {},
   "outputs": [],
   "source": [
    "# Séparation des caractéristiques et des cibles\n",
    "X = df.drop(\"median_house_value\", axis=1)\n",
    "y = df[\"median_house_value\"]\n",
    "\n",
    "num_features = [\n",
    "    'longitude', 'latitude', 'housing_median_age', 'total_rooms',\n",
    "    'total_bedrooms', 'population', 'households', 'median_income'\n",
    "]\n",
    "\n",
    "cat_features = ['ocean_proximity']"
   ]
  },
  {
   "cell_type": "markdown",
   "id": "ad66afe7",
   "metadata": {},
   "source": [
    "Définition de la fonction de calcul de la distance de Haversine: La fonction haversine_distance calcule la distance entre deux points géographiques donnés."
   ]
  },
  {
   "cell_type": "code",
   "execution_count": 5,
   "id": "64aa2ccd",
   "metadata": {},
   "outputs": [],
   "source": [
    "# Création de la fonction pour calculer les distances de Haversine\n",
    "def calculate_distances(df):\n",
    "    # Coordonnées des points de référence\n",
    "    la_lat, la_lon = 34.003342, -118.485832  # Los Angeles\n",
    "    sf_lat, sf_lon = 37.787994, -122.407437  # San Francisco\n",
    "    ontario_lat, ontario_lon = 34.068871, -117.651215  # Ontario\n",
    "\n",
    "    # Fonction de calcul de la distance de Haversine\n",
    "    def haversine_distance(lat1, lon1, lat2, lon2):\n",
    "        R = 6371.0  # Rayon de la Terre en kilomètres\n",
    "        lat1_rad = math.radians(lat1)\n",
    "        lon1_rad = math.radians(lon1)\n",
    "        lat2_rad = math.radians(lat2)\n",
    "        lon2_rad = math.radians(lon2)\n",
    "\n",
    "        dlat = lat2_rad - lat1_rad\n",
    "        dlon = lon2_rad - lon1_rad\n",
    "\n",
    "        a = (math.sin(dlat / 2) ** 2 +\n",
    "             math.cos(lat1_rad) * math.cos(lat2_rad) * math.sin(dlon / 2) ** 2)\n",
    "        c = 2 * math.atan2(math.sqrt(a), math.sqrt(1 - a))\n",
    "\n",
    "        return R * c\n",
    "\n",
    "    # Calculer les distances et les ajouter au DataFrame\n",
    "    df['distance_LA'] = df.apply(\n",
    "        lambda row: haversine_distance(row['latitude'], row['longitude'], la_lat, la_lon), axis=1)\n",
    "    df['distance_SF'] = df.apply(\n",
    "        lambda row: haversine_distance(row['latitude'], row['longitude'], sf_lat, sf_lon), axis=1)\n",
    "    df['distance_Ontario'] = df.apply(\n",
    "        lambda row: haversine_distance(row['latitude'], row['longitude'], ontario_lat, ontario_lon), axis=1)\n",
    "\n",
    "    # Retourner les nouvelles colonnes de distances\n",
    "    return df[['distance_LA', 'distance_SF', 'distance_Ontario']]\n",
    "\n",
    "# Création de la transformation personnalisée avec FunctionTransformer\n",
    "distance_transformer = FunctionTransformer(calculate_distances, validate=False)"
   ]
  },
  {
   "cell_type": "code",
   "execution_count": 6,
   "id": "9c971c54",
   "metadata": {},
   "outputs": [],
   "source": [
    "num_transformer = Pipeline([\n",
    "    ('imputer', KNNImputer(n_neighbors=5)),\n",
    "    ('scaler', StandardScaler())\n",
    "])\n",
    "\n",
    "cat_transformer = Pipeline([\n",
    "    ('imputer', SimpleImputer(strategy='constant', fill_value='missing')),\n",
    "    ('onehot', OneHotEncoder(handle_unknown='ignore'))\n",
    "])\n",
    "\n",
    "dist_transformer = Pipeline([\n",
    "    ('distance', distance_transformer),\n",
    "    ('scaler', StandardScaler())\n",
    "])"
   ]
  },
  {
   "cell_type": "code",
   "execution_count": 7,
   "id": "ced7d9a1",
   "metadata": {},
   "outputs": [],
   "source": [
    "preprocessor = ColumnTransformer(transformers=[\n",
    "    ('num', num_transformer, num_features),\n",
    "    ('cat', cat_transformer, cat_features),\n",
    "    ('lat_lon', dist_transformer, ['latitude', 'longitude'])\n",
    "])\n",
    "\n",
    "# Création du modèle KNeighborsRegressor\n",
    "model = KNeighborsRegressor() #(n_neighbors=5)\n",
    "\n",
    "# Création du pipeline\n",
    "pipeline = Pipeline([\n",
    "    ('preprocessor', preprocessor),\n",
    "    ('model', model)\n",
    "])"
   ]
  },
  {
   "cell_type": "code",
   "execution_count": 8,
   "id": "dd7802f5",
   "metadata": {
    "scrolled": true
   },
   "outputs": [
    {
     "data": {
      "text/html": [
       "<style>#sk-container-id-1 {color: black;}#sk-container-id-1 pre{padding: 0;}#sk-container-id-1 div.sk-toggleable {background-color: white;}#sk-container-id-1 label.sk-toggleable__label {cursor: pointer;display: block;width: 100%;margin-bottom: 0;padding: 0.3em;box-sizing: border-box;text-align: center;}#sk-container-id-1 label.sk-toggleable__label-arrow:before {content: \"▸\";float: left;margin-right: 0.25em;color: #696969;}#sk-container-id-1 label.sk-toggleable__label-arrow:hover:before {color: black;}#sk-container-id-1 div.sk-estimator:hover label.sk-toggleable__label-arrow:before {color: black;}#sk-container-id-1 div.sk-toggleable__content {max-height: 0;max-width: 0;overflow: hidden;text-align: left;background-color: #f0f8ff;}#sk-container-id-1 div.sk-toggleable__content pre {margin: 0.2em;color: black;border-radius: 0.25em;background-color: #f0f8ff;}#sk-container-id-1 input.sk-toggleable__control:checked~div.sk-toggleable__content {max-height: 200px;max-width: 100%;overflow: auto;}#sk-container-id-1 input.sk-toggleable__control:checked~label.sk-toggleable__label-arrow:before {content: \"▾\";}#sk-container-id-1 div.sk-estimator input.sk-toggleable__control:checked~label.sk-toggleable__label {background-color: #d4ebff;}#sk-container-id-1 div.sk-label input.sk-toggleable__control:checked~label.sk-toggleable__label {background-color: #d4ebff;}#sk-container-id-1 input.sk-hidden--visually {border: 0;clip: rect(1px 1px 1px 1px);clip: rect(1px, 1px, 1px, 1px);height: 1px;margin: -1px;overflow: hidden;padding: 0;position: absolute;width: 1px;}#sk-container-id-1 div.sk-estimator {font-family: monospace;background-color: #f0f8ff;border: 1px dotted black;border-radius: 0.25em;box-sizing: border-box;margin-bottom: 0.5em;}#sk-container-id-1 div.sk-estimator:hover {background-color: #d4ebff;}#sk-container-id-1 div.sk-parallel-item::after {content: \"\";width: 100%;border-bottom: 1px solid gray;flex-grow: 1;}#sk-container-id-1 div.sk-label:hover label.sk-toggleable__label {background-color: #d4ebff;}#sk-container-id-1 div.sk-serial::before {content: \"\";position: absolute;border-left: 1px solid gray;box-sizing: border-box;top: 0;bottom: 0;left: 50%;z-index: 0;}#sk-container-id-1 div.sk-serial {display: flex;flex-direction: column;align-items: center;background-color: white;padding-right: 0.2em;padding-left: 0.2em;position: relative;}#sk-container-id-1 div.sk-item {position: relative;z-index: 1;}#sk-container-id-1 div.sk-parallel {display: flex;align-items: stretch;justify-content: center;background-color: white;position: relative;}#sk-container-id-1 div.sk-item::before, #sk-container-id-1 div.sk-parallel-item::before {content: \"\";position: absolute;border-left: 1px solid gray;box-sizing: border-box;top: 0;bottom: 0;left: 50%;z-index: -1;}#sk-container-id-1 div.sk-parallel-item {display: flex;flex-direction: column;z-index: 1;position: relative;background-color: white;}#sk-container-id-1 div.sk-parallel-item:first-child::after {align-self: flex-end;width: 50%;}#sk-container-id-1 div.sk-parallel-item:last-child::after {align-self: flex-start;width: 50%;}#sk-container-id-1 div.sk-parallel-item:only-child::after {width: 0;}#sk-container-id-1 div.sk-dashed-wrapped {border: 1px dashed gray;margin: 0 0.4em 0.5em 0.4em;box-sizing: border-box;padding-bottom: 0.4em;background-color: white;}#sk-container-id-1 div.sk-label label {font-family: monospace;font-weight: bold;display: inline-block;line-height: 1.2em;}#sk-container-id-1 div.sk-label-container {text-align: center;}#sk-container-id-1 div.sk-container {/* jupyter's `normalize.less` sets `[hidden] { display: none; }` but bootstrap.min.css set `[hidden] { display: none !important; }` so we also need the `!important` here to be able to override the default hidden behavior on the sphinx rendered scikit-learn.org. See: https://github.com/scikit-learn/scikit-learn/issues/21755 */display: inline-block !important;position: relative;}#sk-container-id-1 div.sk-text-repr-fallback {display: none;}</style><div id=\"sk-container-id-1\" class=\"sk-top-container\"><div class=\"sk-text-repr-fallback\"><pre>Pipeline(steps=[(&#x27;preprocessor&#x27;,\n",
       "                 ColumnTransformer(transformers=[(&#x27;num&#x27;,\n",
       "                                                  Pipeline(steps=[(&#x27;imputer&#x27;,\n",
       "                                                                   KNNImputer()),\n",
       "                                                                  (&#x27;scaler&#x27;,\n",
       "                                                                   StandardScaler())]),\n",
       "                                                  [&#x27;longitude&#x27;, &#x27;latitude&#x27;,\n",
       "                                                   &#x27;housing_median_age&#x27;,\n",
       "                                                   &#x27;total_rooms&#x27;,\n",
       "                                                   &#x27;total_bedrooms&#x27;,\n",
       "                                                   &#x27;population&#x27;, &#x27;households&#x27;,\n",
       "                                                   &#x27;median_income&#x27;]),\n",
       "                                                 (&#x27;cat&#x27;,\n",
       "                                                  Pipeline(steps=[(&#x27;imputer&#x27;,\n",
       "                                                                   SimpleImputer(fill_value=&#x27;missing&#x27;,\n",
       "                                                                                 strategy=&#x27;constant&#x27;)),\n",
       "                                                                  (&#x27;onehot&#x27;,\n",
       "                                                                   OneHotEncoder(handle_unknown=&#x27;ignore&#x27;))]),\n",
       "                                                  [&#x27;ocean_proximity&#x27;]),\n",
       "                                                 (&#x27;lat_lon&#x27;,\n",
       "                                                  Pipeline(steps=[(&#x27;distance&#x27;,\n",
       "                                                                   FunctionTransformer(func=&lt;function calculate_distances at 0x7fc277743d90&gt;)),\n",
       "                                                                  (&#x27;scaler&#x27;,\n",
       "                                                                   StandardScaler())]),\n",
       "                                                  [&#x27;latitude&#x27;, &#x27;longitude&#x27;])])),\n",
       "                (&#x27;model&#x27;, KNeighborsRegressor())])</pre><b>In a Jupyter environment, please rerun this cell to show the HTML representation or trust the notebook. <br />On GitHub, the HTML representation is unable to render, please try loading this page with nbviewer.org.</b></div><div class=\"sk-container\" hidden><div class=\"sk-item sk-dashed-wrapped\"><div class=\"sk-label-container\"><div class=\"sk-label sk-toggleable\"><input class=\"sk-toggleable__control sk-hidden--visually\" id=\"sk-estimator-id-1\" type=\"checkbox\" ><label for=\"sk-estimator-id-1\" class=\"sk-toggleable__label sk-toggleable__label-arrow\">Pipeline</label><div class=\"sk-toggleable__content\"><pre>Pipeline(steps=[(&#x27;preprocessor&#x27;,\n",
       "                 ColumnTransformer(transformers=[(&#x27;num&#x27;,\n",
       "                                                  Pipeline(steps=[(&#x27;imputer&#x27;,\n",
       "                                                                   KNNImputer()),\n",
       "                                                                  (&#x27;scaler&#x27;,\n",
       "                                                                   StandardScaler())]),\n",
       "                                                  [&#x27;longitude&#x27;, &#x27;latitude&#x27;,\n",
       "                                                   &#x27;housing_median_age&#x27;,\n",
       "                                                   &#x27;total_rooms&#x27;,\n",
       "                                                   &#x27;total_bedrooms&#x27;,\n",
       "                                                   &#x27;population&#x27;, &#x27;households&#x27;,\n",
       "                                                   &#x27;median_income&#x27;]),\n",
       "                                                 (&#x27;cat&#x27;,\n",
       "                                                  Pipeline(steps=[(&#x27;imputer&#x27;,\n",
       "                                                                   SimpleImputer(fill_value=&#x27;missing&#x27;,\n",
       "                                                                                 strategy=&#x27;constant&#x27;)),\n",
       "                                                                  (&#x27;onehot&#x27;,\n",
       "                                                                   OneHotEncoder(handle_unknown=&#x27;ignore&#x27;))]),\n",
       "                                                  [&#x27;ocean_proximity&#x27;]),\n",
       "                                                 (&#x27;lat_lon&#x27;,\n",
       "                                                  Pipeline(steps=[(&#x27;distance&#x27;,\n",
       "                                                                   FunctionTransformer(func=&lt;function calculate_distances at 0x7fc277743d90&gt;)),\n",
       "                                                                  (&#x27;scaler&#x27;,\n",
       "                                                                   StandardScaler())]),\n",
       "                                                  [&#x27;latitude&#x27;, &#x27;longitude&#x27;])])),\n",
       "                (&#x27;model&#x27;, KNeighborsRegressor())])</pre></div></div></div><div class=\"sk-serial\"><div class=\"sk-item sk-dashed-wrapped\"><div class=\"sk-label-container\"><div class=\"sk-label sk-toggleable\"><input class=\"sk-toggleable__control sk-hidden--visually\" id=\"sk-estimator-id-2\" type=\"checkbox\" ><label for=\"sk-estimator-id-2\" class=\"sk-toggleable__label sk-toggleable__label-arrow\">preprocessor: ColumnTransformer</label><div class=\"sk-toggleable__content\"><pre>ColumnTransformer(transformers=[(&#x27;num&#x27;,\n",
       "                                 Pipeline(steps=[(&#x27;imputer&#x27;, KNNImputer()),\n",
       "                                                 (&#x27;scaler&#x27;, StandardScaler())]),\n",
       "                                 [&#x27;longitude&#x27;, &#x27;latitude&#x27;, &#x27;housing_median_age&#x27;,\n",
       "                                  &#x27;total_rooms&#x27;, &#x27;total_bedrooms&#x27;, &#x27;population&#x27;,\n",
       "                                  &#x27;households&#x27;, &#x27;median_income&#x27;]),\n",
       "                                (&#x27;cat&#x27;,\n",
       "                                 Pipeline(steps=[(&#x27;imputer&#x27;,\n",
       "                                                  SimpleImputer(fill_value=&#x27;missing&#x27;,\n",
       "                                                                strategy=&#x27;constant&#x27;)),\n",
       "                                                 (&#x27;onehot&#x27;,\n",
       "                                                  OneHotEncoder(handle_unknown=&#x27;ignore&#x27;))]),\n",
       "                                 [&#x27;ocean_proximity&#x27;]),\n",
       "                                (&#x27;lat_lon&#x27;,\n",
       "                                 Pipeline(steps=[(&#x27;distance&#x27;,\n",
       "                                                  FunctionTransformer(func=&lt;function calculate_distances at 0x7fc277743d90&gt;)),\n",
       "                                                 (&#x27;scaler&#x27;, StandardScaler())]),\n",
       "                                 [&#x27;latitude&#x27;, &#x27;longitude&#x27;])])</pre></div></div></div><div class=\"sk-parallel\"><div class=\"sk-parallel-item\"><div class=\"sk-item\"><div class=\"sk-label-container\"><div class=\"sk-label sk-toggleable\"><input class=\"sk-toggleable__control sk-hidden--visually\" id=\"sk-estimator-id-3\" type=\"checkbox\" ><label for=\"sk-estimator-id-3\" class=\"sk-toggleable__label sk-toggleable__label-arrow\">num</label><div class=\"sk-toggleable__content\"><pre>[&#x27;longitude&#x27;, &#x27;latitude&#x27;, &#x27;housing_median_age&#x27;, &#x27;total_rooms&#x27;, &#x27;total_bedrooms&#x27;, &#x27;population&#x27;, &#x27;households&#x27;, &#x27;median_income&#x27;]</pre></div></div></div><div class=\"sk-serial\"><div class=\"sk-item\"><div class=\"sk-serial\"><div class=\"sk-item\"><div class=\"sk-estimator sk-toggleable\"><input class=\"sk-toggleable__control sk-hidden--visually\" id=\"sk-estimator-id-4\" type=\"checkbox\" ><label for=\"sk-estimator-id-4\" class=\"sk-toggleable__label sk-toggleable__label-arrow\">KNNImputer</label><div class=\"sk-toggleable__content\"><pre>KNNImputer()</pre></div></div></div><div class=\"sk-item\"><div class=\"sk-estimator sk-toggleable\"><input class=\"sk-toggleable__control sk-hidden--visually\" id=\"sk-estimator-id-5\" type=\"checkbox\" ><label for=\"sk-estimator-id-5\" class=\"sk-toggleable__label sk-toggleable__label-arrow\">StandardScaler</label><div class=\"sk-toggleable__content\"><pre>StandardScaler()</pre></div></div></div></div></div></div></div></div><div class=\"sk-parallel-item\"><div class=\"sk-item\"><div class=\"sk-label-container\"><div class=\"sk-label sk-toggleable\"><input class=\"sk-toggleable__control sk-hidden--visually\" id=\"sk-estimator-id-6\" type=\"checkbox\" ><label for=\"sk-estimator-id-6\" class=\"sk-toggleable__label sk-toggleable__label-arrow\">cat</label><div class=\"sk-toggleable__content\"><pre>[&#x27;ocean_proximity&#x27;]</pre></div></div></div><div class=\"sk-serial\"><div class=\"sk-item\"><div class=\"sk-serial\"><div class=\"sk-item\"><div class=\"sk-estimator sk-toggleable\"><input class=\"sk-toggleable__control sk-hidden--visually\" id=\"sk-estimator-id-7\" type=\"checkbox\" ><label for=\"sk-estimator-id-7\" class=\"sk-toggleable__label sk-toggleable__label-arrow\">SimpleImputer</label><div class=\"sk-toggleable__content\"><pre>SimpleImputer(fill_value=&#x27;missing&#x27;, strategy=&#x27;constant&#x27;)</pre></div></div></div><div class=\"sk-item\"><div class=\"sk-estimator sk-toggleable\"><input class=\"sk-toggleable__control sk-hidden--visually\" id=\"sk-estimator-id-8\" type=\"checkbox\" ><label for=\"sk-estimator-id-8\" class=\"sk-toggleable__label sk-toggleable__label-arrow\">OneHotEncoder</label><div class=\"sk-toggleable__content\"><pre>OneHotEncoder(handle_unknown=&#x27;ignore&#x27;)</pre></div></div></div></div></div></div></div></div><div class=\"sk-parallel-item\"><div class=\"sk-item\"><div class=\"sk-label-container\"><div class=\"sk-label sk-toggleable\"><input class=\"sk-toggleable__control sk-hidden--visually\" id=\"sk-estimator-id-9\" type=\"checkbox\" ><label for=\"sk-estimator-id-9\" class=\"sk-toggleable__label sk-toggleable__label-arrow\">lat_lon</label><div class=\"sk-toggleable__content\"><pre>[&#x27;latitude&#x27;, &#x27;longitude&#x27;]</pre></div></div></div><div class=\"sk-serial\"><div class=\"sk-item\"><div class=\"sk-serial\"><div class=\"sk-item\"><div class=\"sk-estimator sk-toggleable\"><input class=\"sk-toggleable__control sk-hidden--visually\" id=\"sk-estimator-id-10\" type=\"checkbox\" ><label for=\"sk-estimator-id-10\" class=\"sk-toggleable__label sk-toggleable__label-arrow\">FunctionTransformer</label><div class=\"sk-toggleable__content\"><pre>FunctionTransformer(func=&lt;function calculate_distances at 0x7fc277743d90&gt;)</pre></div></div></div><div class=\"sk-item\"><div class=\"sk-estimator sk-toggleable\"><input class=\"sk-toggleable__control sk-hidden--visually\" id=\"sk-estimator-id-11\" type=\"checkbox\" ><label for=\"sk-estimator-id-11\" class=\"sk-toggleable__label sk-toggleable__label-arrow\">StandardScaler</label><div class=\"sk-toggleable__content\"><pre>StandardScaler()</pre></div></div></div></div></div></div></div></div></div></div><div class=\"sk-item\"><div class=\"sk-estimator sk-toggleable\"><input class=\"sk-toggleable__control sk-hidden--visually\" id=\"sk-estimator-id-12\" type=\"checkbox\" ><label for=\"sk-estimator-id-12\" class=\"sk-toggleable__label sk-toggleable__label-arrow\">KNeighborsRegressor</label><div class=\"sk-toggleable__content\"><pre>KNeighborsRegressor()</pre></div></div></div></div></div></div></div>"
      ],
      "text/plain": [
       "Pipeline(steps=[('preprocessor',\n",
       "                 ColumnTransformer(transformers=[('num',\n",
       "                                                  Pipeline(steps=[('imputer',\n",
       "                                                                   KNNImputer()),\n",
       "                                                                  ('scaler',\n",
       "                                                                   StandardScaler())]),\n",
       "                                                  ['longitude', 'latitude',\n",
       "                                                   'housing_median_age',\n",
       "                                                   'total_rooms',\n",
       "                                                   'total_bedrooms',\n",
       "                                                   'population', 'households',\n",
       "                                                   'median_income']),\n",
       "                                                 ('cat',\n",
       "                                                  Pipeline(steps=[('imputer',\n",
       "                                                                   SimpleImputer(fill_value='missing',\n",
       "                                                                                 strategy='constant')),\n",
       "                                                                  ('onehot',\n",
       "                                                                   OneHotEncoder(handle_unknown='ignore'))]),\n",
       "                                                  ['ocean_proximity']),\n",
       "                                                 ('lat_lon',\n",
       "                                                  Pipeline(steps=[('distance',\n",
       "                                                                   FunctionTransformer(func=<function calculate_distances at 0x7fc277743d90>)),\n",
       "                                                                  ('scaler',\n",
       "                                                                   StandardScaler())]),\n",
       "                                                  ['latitude', 'longitude'])])),\n",
       "                ('model', KNeighborsRegressor())])"
      ]
     },
     "execution_count": 8,
     "metadata": {},
     "output_type": "execute_result"
    }
   ],
   "source": [
    "set_config(display='diagram')\n",
    "pipeline"
   ]
  },
  {
   "cell_type": "markdown",
   "id": "e2068bd6",
   "metadata": {},
   "source": [
    "## Séparation des données"
   ]
  },
  {
   "cell_type": "code",
   "execution_count": 9,
   "id": "7e16ae8a",
   "metadata": {},
   "outputs": [],
   "source": [
    "# Séparation des données en ensembles d'entraînement et de test\n",
    "X_train, X_test, y_train, y_test = train_test_split(X, y, test_size=0.2, random_state=39)"
   ]
  },
  {
   "cell_type": "code",
   "execution_count": 10,
   "id": "333bcd44",
   "metadata": {},
   "outputs": [],
   "source": [
    "# Définition des paramètres pour `GridSearchCV`\n",
    "param_grid = {\n",
    "    'model__n_neighbors': [8, 9, 10, 11, 12, 13, 14, 15],\n",
    "    'model__weights': ['uniform', 'distance'],\n",
    "    'model__metric': ['euclidean', 'manhattan'],\n",
    "    'model__algorithm': ['ball_tree', 'kd_tree', 'brute'],\n",
    "    'model__leaf_size': [10, 30, 50]\n",
    "}"
   ]
  },
  {
   "cell_type": "code",
   "execution_count": 11,
   "id": "ad2444de",
   "metadata": {
    "scrolled": true
   },
   "outputs": [
    {
     "name": "stdout",
     "output_type": "stream",
     "text": [
      "Fitting 5 folds for each of 288 candidates, totalling 1440 fits\n"
     ]
    },
    {
     "name": "stdout",
     "output_type": "stream",
     "text": [
      "Meilleurs paramètres:  {'model__algorithm': 'ball_tree', 'model__leaf_size': 10, 'model__metric': 'manhattan', 'model__n_neighbors': 9, 'model__weights': 'distance'}\n",
      "Score R²: 0.76\n",
      "RMSE: 56616.02\n"
     ]
    }
   ],
   "source": [
    "# Initialisation de `GridSearchCV` avec le `pipeline` et les paramètres\n",
    "grid_search = GridSearchCV(pipeline, param_grid, cv=5, scoring='neg_mean_squared_error', verbose=1)\n",
    "\n",
    "# Effectuer la recherche d'hyperparamètres sur l'ensemble de données d'entraînement\n",
    "grid_search.fit(X_train, y_train)\n",
    "\n",
    "# Récupérer les meilleurs paramètres\n",
    "best_model = grid_search.best_estimator_\n",
    "best_params = grid_search.best_params_\n",
    "y_pred = best_model.predict(X_test)\n",
    "r2 = r2_score(y_test, y_pred)\n",
    "rmse = mean_squared_error(y_test, y_pred, squared=False)\n",
    "\n",
    "# Afficher les meilleurs paramètres\n",
    "print(\"Meilleurs paramètres: \", best_params)\n",
    "print(f\"Score R²: {r2:.2f}\")\n",
    "print(f\"RMSE: {rmse:.2f}\")"
   ]
  },
  {
   "cell_type": "markdown",
   "id": "c7d3d69b",
   "metadata": {},
   "source": [
    "## Choix du modèle"
   ]
  },
  {
   "cell_type": "code",
   "execution_count": 12,
   "id": "6845af94",
   "metadata": {},
   "outputs": [
    {
     "data": {
      "text/plain": [
       "['KNN_model.joblib']"
      ]
     },
     "execution_count": 12,
     "metadata": {},
     "output_type": "execute_result"
    }
   ],
   "source": [
    "joblib.dump(best_model,\"KNN_model.joblib\")"
   ]
  },
  {
   "cell_type": "markdown",
   "id": "a80cba4e",
   "metadata": {},
   "source": [
    "## Entraînement des données"
   ]
  },
  {
   "cell_type": "markdown",
   "id": "b5c46091",
   "metadata": {},
   "source": [
    "## Test du modèle"
   ]
  },
  {
   "cell_type": "markdown",
   "id": "55499205",
   "metadata": {},
   "source": [
    "## Evaluation des résultats"
   ]
  }
 ],
 "metadata": {
  "kernelspec": {
   "display_name": "Python 3 (ipykernel)",
   "language": "python",
   "name": "python3"
  },
  "language_info": {
   "codemirror_mode": {
    "name": "ipython",
    "version": 3
   },
   "file_extension": ".py",
   "mimetype": "text/x-python",
   "name": "python",
   "nbconvert_exporter": "python",
   "pygments_lexer": "ipython3",
   "version": "3.10.6"
  },
  "toc": {
   "base_numbering": 1,
   "nav_menu": {},
   "number_sections": true,
   "sideBar": true,
   "skip_h1_title": false,
   "title_cell": "Table of Contents",
   "title_sidebar": "Contents",
   "toc_cell": false,
   "toc_position": {},
   "toc_section_display": true,
   "toc_window_display": false
  }
 },
 "nbformat": 4,
 "nbformat_minor": 5
}
